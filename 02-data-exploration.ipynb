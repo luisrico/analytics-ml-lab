{
 "cells": [
  {
   "cell_type": "markdown",
   "metadata": {},
   "source": [
    "# Data Exploration\n",
    "\n",
    "In this notebook, we'll take an opportunity to explore the data we'll be using.\n",
    "Data exploration and understanding is a fundamental step in Machine Learning, and often will be one of the key steps.\n",
    "You may even spend all or most of the time understanding the data better so that your model can understand it better\n",
    "\n",
    "In this lab, the data we'll be looking at is the MNIST data set. This is a very common almost \"hello world\" style problem in today's machine learning landscape. It consists of 60,000 examples of handwritten digits, with a label corresponding to what the intended digit is. It's worth mentioning that in ML, 60,000 examples is considered a fairly small dataset.\n",
    "\n",
    "It's helpful to know a few characteristics about the dataset in this course in particular. Specifically how it's laid out. In the MNIST dataset we have provided, we have done some preprocessing of the data. The data you'll be provided is in CSV format, with the first digit corresponding to the actual value, and the rest of them corresponding to a 28x28 pixel image of the digit. That 28x28 pixels is flattened in our image into 784 individual pixel elements. Each pixel element is in the range of \\[0,255\\] which corresponds to a greyscale. In the case of a color image, we might have each element be a triple which would correspond to an (R,G,B) value.\n",
    "\n",
    "This dataset will be used to train our model to recognize the relationship between the pixel values of the 28x28 image, and the digit that we tell the model that the pixel values correspond to. The goal of the neural network that we develop over the course of this lab will be to take in an image of a digit, and correctly classify it by outputting the correct digit. No neural network is going to be perfect, but we hope to achieve high accuracy.\n",
    "\n",
    "Accuracy in this lab is defined specifically as the number of correct predictions divided by the total number of predictions.\n",
    "\n",
    "### $ Accuracy = {Correct\\_Predictions \\over Total\\_Predictions} $\n",
    "\n",
    "Note that this metric isn't always the optimal metric for every situation, and some ML systems will need different metrics, but for the purposes of this course, it will work well enough\n",
    "\n",
    "As we go through this notebook, feel free to explore the data a bit, change which examples, axis, etc, that we look at, and really get a good understanding of the data we're working with. It's a vital skill in the toolbox of any data scientist, engineer, or machine learning expert.\n",
    "\n",
    "To start, let's load our data"
   ]
  },
  {
   "cell_type": "code",
   "execution_count": null,
   "metadata": {
    "scrolled": false
   },
   "outputs": [],
   "source": [
    "# These are very common imports and aliases\n",
    "import pandas as pd\n",
    "import matplotlib.pyplot as plt\n",
    "\n",
    "# Pandas is a column-oriented data manipulation library, it's very commonly used, and has\n",
    "# a parallel in Spark in their dataframe API\n",
    "\n",
    "# One of the convenient things is that Pandas can load many formats of data easily\n",
    "train_ds: pd.DataFrame = pd.read_csv(\"mnist_train.csv\", header=None)\n",
    "\n",
    "# Printing a DataFrame will let us examine the data. Helpfully (or unhelpfully) it will truncate\n",
    "# the output to roughly match the size of the terminal. In this case we see pretty much all zeros\n",
    "# This might lead us to wonder if there's any data in there at all, so we'll look at a few more ways\n",
    "# to look at the data in the coming cells\n",
    "\n",
    "train_ds"
   ]
  },
  {
   "cell_type": "code",
   "execution_count": null,
   "metadata": {},
   "outputs": [],
   "source": [
    "# We can take a look at only a few rows with head() or tail(). It accepts an argument for how many rows\n",
    "# 5 is the default, which is probably what we want\n",
    "train_ds.head()\n",
    "\n",
    "# Note that when looking at the data, column 0 appears to have our label, while the rest appear to be zeros\n",
    "# If we were to look at a bit more expanded dataframe, we would see that there's some padding around\n",
    "# the digits. We'll examine it a bit closer in the next few steps"
   ]
  },
  {
   "cell_type": "code",
   "execution_count": null,
   "metadata": {},
   "outputs": [],
   "source": [
    "# We can also see some basic statistics about the data in the DataFrame with the describe() method\n",
    "# This is useful as a basic sanity check that the data corresponds to what we expect\n",
    "\n",
    "train_ds.describe()\n",
    "\n",
    "# These statistics aren't particularly useful for this dataset, but it's helpful to see some of them nonetheless\n",
    "# We can see that in columns 775-780 there are some non-zero pixels. That at least tells us some images\n",
    "# extend that far"
   ]
  },
  {
   "cell_type": "code",
   "execution_count": null,
   "metadata": {},
   "outputs": [],
   "source": [
    "# Now, this helps, but doesn't really show us the meat of what we need to see to understand the data\n",
    "# Let's now look at a single example. We use the 'loc' field to extract a single row and\n",
    "# we can look at the field 'values' to get the underlying numpy array\n",
    "\n",
    "train_ds.loc[0].values\n",
    "\n",
    "# That looks better, at least now we're sure there's regular data in there"
   ]
  },
  {
   "cell_type": "code",
   "execution_count": null,
   "metadata": {},
   "outputs": [],
   "source": [
    "# Now that we have some idea of what the data in the DataFrame looks like, we could proceed, but\n",
    "# it's also good to build just a bit more intuition about it since we can see the values but they \n",
    "# don't yet really give us a clear picture of what we're looking at\n",
    "\n",
    "# In this case, the best way would be to look at them graphically, excluding the first element which is the label\n",
    "# To do that, we bust out our trusty pyplot library. Graphical representations of data often are the most intuitive\n",
    "# way to examine data, and especially image data\n",
    "\n",
    "# To get a good look at our data, let's take that first example and see that the label does correspond to the\n",
    "# image in the way we expect\n",
    "\n",
    "# You can change this to see other examples\n",
    "selected_feature_row = 0\n",
    "\n",
    "# Get the element at [0, 0] (note that this supports the exact same python slicing that you're used to)\n",
    "label = train_ds.loc[selected_feature_row, 0]\n",
    "print(\"Label: %d\" % label)\n",
    "\n",
    "# We can see that our label for row 0 is 5\n",
    "# Now let's look at the rest of it graphically\n",
    "\n",
    "# We take the rest of row 0 and call it \"features\", which is an ML term that roughly refers to the characteristics\n",
    "# of a piece of data corresponding to the label above. ML is all about generating or predicting a \"label\" given\n",
    "# a set of \"features\"\n",
    "features = train_ds.loc[selected_feature_row, 1:].values\n",
    "\n",
    "# Now, we could look at this as a single dimensional array when we pass it to the next bit, but instead since\n",
    "# it's an image, we want to reshape it into the proper 2d shape. That will give us the most clarity about what\n",
    "# we want to see. Note that reshape takes a single tuple, rather than a set of integer arguments\n",
    "reshaped_features = features.reshape((28, 28))\n",
    "\n",
    "# pyplot.imshow() takes in an array of values (or n-dimensional array) and prints an image based on their values.\n",
    "# It's useful for things like displaying images from pixels, or heatmaps, etc. We're using it for the former, but\n",
    "# it has many other uses\n",
    "\n",
    "# In our case, we pass in the reshaped 28x28 array from above, and tell it to use the 'greyscale' color map\n",
    "# You can check the documentation for pyplot to learn more about the features and other keywords it supports\n",
    "plt.imshow(reshaped_features, cmap='Greys')\n",
    "\n",
    "# Printing this out, we see a pixellated 5, that tells us pretty much what we want to know about the way\n",
    "# the data looks"
   ]
  }
 ],
 "metadata": {
  "kernelspec": {
   "display_name": "Python 3",
   "language": "python",
   "name": "python3"
  },
  "language_info": {
   "codemirror_mode": {
    "name": "ipython",
    "version": 3
   },
   "file_extension": ".py",
   "mimetype": "text/x-python",
   "name": "python",
   "nbconvert_exporter": "python",
   "pygments_lexer": "ipython3",
   "version": "3.6.3"
  }
 },
 "nbformat": 4,
 "nbformat_minor": 2
}
